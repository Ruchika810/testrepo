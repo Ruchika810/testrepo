{
  "metadata": {
    "kernelspec": {
      "name": "python",
      "display_name": "Python (Pyodide)",
      "language": "python"
    },
    "language_info": {
      "codemirror_mode": {
        "name": "python",
        "version": 3
      },
      "file_extension": ".py",
      "mimetype": "text/x-python",
      "name": "python",
      "nbconvert_exporter": "python",
      "pygments_lexer": "ipython3",
      "version": "3.8"
    }
  },
  "nbformat_minor": 5,
  "nbformat": 4,
  "cells": [
    {
      "id": "74d85906-9105-43e8-a6f5-9a326c0184e9",
      "cell_type": "code",
      "source": "# Data Science Tools and Ecosystem",
      "metadata": {
        "trusted": true
      },
      "outputs": [],
      "execution_count": null
    },
    {
      "id": "cd9c0f13-d498-4469-9992-f64ef94774b9",
      "cell_type": "code",
      "source": "In this notebook, we will explore various tools, languages, and libraries that are commonly used in the field of Data Science. We'll also perform some simple arithmetic operations using Python.\n",
      "metadata": {
        "trusted": true
      },
      "outputs": [],
      "execution_count": null
    },
    {
      "id": "b923ead2-f0f1-4fe9-aa12-9d0220a01ac3",
      "cell_type": "code",
      "source": "## Commonly Used Languages in Data Science:\n- Python\n- R\n- SQL\n- Julia\n- Scala\n",
      "metadata": {
        "trusted": true
      },
      "outputs": [],
      "execution_count": null
    },
    {
      "id": "928b3e22-628e-4643-8704-418883ebd9a9",
      "cell_type": "code",
      "source": "## Popular Data Science Libraries:\n- NumPy\n- Pandas\n- Matplotlib\n- Scikit-learn\n- TensorFlow\n- Keras\n",
      "metadata": {
        "trusted": true
      },
      "outputs": [],
      "execution_count": null
    },
    {
      "id": "ee10a0fc-2428-4c66-9cf0-223ad4b3a67d",
      "cell_type": "code",
      "source": "## Data Science Tools\n\n| Tool              | Description                    |\n|-------------------|--------------------------------|\n| Jupyter Notebook  | Interactive code notebook      |\n| RStudio           | IDE for R                      |\n| Apache Spark      | Big data processing framework  |\n| TensorFlow        | Deep learning library          |\n| Tableau           | Data visualization tool        |\n",
      "metadata": {
        "trusted": true
      },
      "outputs": [],
      "execution_count": null
    },
    {
      "id": "b9e61069-97a4-4729-aa63-05cb6aade797",
      "cell_type": "code",
      "source": "## Examples of Arithmetic Expressions in Python\n\nIn this section, we demonstrate how to use Python to perform simple arithmetic operations such as addition and multiplication.\n",
      "metadata": {
        "trusted": true
      },
      "outputs": [],
      "execution_count": null
    },
    {
      "id": "c99702a5-bff9-4376-98e1-a326160addbd",
      "cell_type": "code",
      "source": "# This will multiply 3 by 4 and then add 5\nresult = (3 * 4) + 5\nprint(\"Result:\", result)\n",
      "metadata": {
        "trusted": true
      },
      "outputs": [
        {
          "name": "stdout",
          "output_type": "stream",
          "text": "Result: 17\n"
        }
      ],
      "execution_count": 1
    },
    {
      "id": "8a75aaa7-038e-441a-b886-1dc9aa6fd6ec",
      "cell_type": "code",
      "source": "# Convert 200 minutes to hours\nminutes = 200\nhours = minutes / 60\nprint(\"Hours:\", hours)\n",
      "metadata": {
        "trusted": true
      },
      "outputs": [
        {
          "name": "stdout",
          "output_type": "stream",
          "text": "Hours: 3.3333333333333335\n"
        }
      ],
      "execution_count": 2
    },
    {
      "id": "9bc6957d-c68f-4125-81b7-ffa6c3ed6372",
      "cell_type": "code",
      "source": "## Objectives of this Notebook:\n- Learn about Data Science languages and libraries\n- Practice markdown formatting\n- Perform basic arithmetic operations in Python\n- Learn how to use Jupyter Notebook for documentation and coding\n",
      "metadata": {
        "trusted": true
      },
      "outputs": [],
      "execution_count": null
    },
    {
      "id": "ad34f0e3-52df-4f80-9cf6-99b27f454a58",
      "cell_type": "code",
      "source": "**Author:** Ruchika\n",
      "metadata": {
        "trusted": true
      },
      "outputs": [],
      "execution_count": null
    },
    {
      "id": "e2c7a332-fe1f-4099-bebb-b2381c6c5cec",
      "cell_type": "code",
      "source": "",
      "metadata": {
        "trusted": true
      },
      "outputs": [],
      "execution_count": null
    }
  ]
}